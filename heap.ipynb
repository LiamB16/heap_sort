{
 "cells": [
  {
   "cell_type": "markdown",
   "id": "6db00c24",
   "metadata": {},
   "source": [
    "<h1>Heap sort</h1>"
   ]
  },
  {
   "cell_type": "markdown",
   "id": "e8d29201",
   "metadata": {},
   "source": [
    "<h2>lists in python</h2>\n"
   ]
  },
  {
   "cell_type": "code",
   "execution_count": 1,
   "id": "601d9861",
   "metadata": {},
   "outputs": [],
   "source": [
    "# lists in python can be created with square bracket notation\n",
    "L = [1, 2, 3, \"hello world\", None, True]"
   ]
  },
  {
   "cell_type": "code",
   "execution_count": 2,
   "id": "51af377f",
   "metadata": {},
   "outputs": [
    {
     "data": {
      "text/plain": [
       "True"
      ]
     },
     "execution_count": 2,
     "metadata": {},
     "output_type": "execute_result"
    }
   ],
   "source": [
    "# they are zero indexed as usual\n",
    "L[5]"
   ]
  },
  {
   "cell_type": "code",
   "execution_count": 3,
   "id": "b83c9778",
   "metadata": {},
   "outputs": [
    {
     "data": {
      "text/plain": [
       "[1, 2, 3, 4]"
      ]
     },
     "execution_count": 3,
     "metadata": {},
     "output_type": "execute_result"
    }
   ],
   "source": [
    "#crate lists with the list() function\n",
    "list([1,2,3,4])"
   ]
  },
  {
   "cell_type": "code",
   "execution_count": 4,
   "id": "a7a759d3",
   "metadata": {},
   "outputs": [
    {
     "data": {
      "text/plain": [
       "'hello world'"
      ]
     },
     "execution_count": 4,
     "metadata": {},
     "output_type": "execute_result"
    }
   ],
   "source": [
    "L[-3]"
   ]
  },
  {
   "cell_type": "code",
   "execution_count": 5,
   "id": "cf1d05e5",
   "metadata": {},
   "outputs": [
    {
     "data": {
      "text/plain": [
       "[0, 2, 4, 6, 8, 10, 12, 14, 16, 18]"
      ]
     },
     "execution_count": 5,
     "metadata": {},
     "output_type": "execute_result"
    }
   ],
   "source": [
    "# in-built function for creating iterables\n",
    "list(range(0, 20, 2))"
   ]
  },
  {
   "cell_type": "code",
   "execution_count": 6,
   "id": "8094de81",
   "metadata": {},
   "outputs": [
    {
     "data": {
      "text/plain": [
       "[0, 1, 2, 3, 4, 5, 6, 7, 8, 9, 10, 11, 12, 13, 14, 15, 16, 17, 18, 19]"
      ]
     },
     "execution_count": 6,
     "metadata": {},
     "output_type": "execute_result"
    }
   ],
   "source": [
    "# in-built function for creating iterables\n",
    "L = list(range(20))\n",
    "L"
   ]
  },
  {
   "cell_type": "code",
   "execution_count": 7,
   "id": "0388ca7e",
   "metadata": {},
   "outputs": [
    {
     "data": {
      "text/plain": [
       "[1, 3, 5, 7, 9]"
      ]
     },
     "execution_count": 7,
     "metadata": {},
     "output_type": "execute_result"
    }
   ],
   "source": [
    "#list slicing\n",
    "L[1:10:2]"
   ]
  },
  {
   "cell_type": "code",
   "execution_count": 9,
   "id": "c36a4a9c",
   "metadata": {},
   "outputs": [
    {
     "data": {
      "text/plain": [
       "[5, 6, 7, 8, 9, 10, 11, 12, 13, 14, 15, 16, 17, 18, 19, 0, 1, 2, 3, 4]"
      ]
     },
     "execution_count": 9,
     "metadata": {},
     "output_type": "execute_result"
    }
   ],
   "source": [
    "#quick way to cycle the list to the left\n",
    "i = 5\n",
    "L[i:] + L[:i]"
   ]
  },
  {
   "cell_type": "code",
   "execution_count": 12,
   "id": "c2f8c66b",
   "metadata": {},
   "outputs": [],
   "source": [
    "# tupled -- immutable\n",
    "T = (1, 2, 3, 4)\n"
   ]
  },
  {
   "cell_type": "code",
   "execution_count": 13,
   "id": "b59cd1c7",
   "metadata": {},
   "outputs": [
    {
     "data": {
      "text/plain": [
       "1"
      ]
     },
     "execution_count": 13,
     "metadata": {},
     "output_type": "execute_result"
    }
   ],
   "source": [
    "T[0]"
   ]
  },
  {
   "cell_type": "code",
   "execution_count": 14,
   "id": "09e52f77",
   "metadata": {},
   "outputs": [
    {
     "data": {
      "text/plain": [
       "(4,)"
      ]
     },
     "execution_count": 14,
     "metadata": {},
     "output_type": "execute_result"
    }
   ],
   "source": [
    "T[3:]"
   ]
  },
  {
   "cell_type": "code",
   "execution_count": 15,
   "id": "828c4f29",
   "metadata": {},
   "outputs": [
    {
     "data": {
      "text/plain": [
       "(1, 2, 3, 4)"
      ]
     },
     "execution_count": 15,
     "metadata": {},
     "output_type": "execute_result"
    }
   ],
   "source": [
    "# tuples are created with commas, as opposed to round brackets\n",
    "T = 1, 2, 3, 4\n",
    "T"
   ]
  },
  {
   "cell_type": "code",
   "execution_count": 16,
   "id": "1e585681",
   "metadata": {},
   "outputs": [
    {
     "data": {
      "text/plain": [
       "590899387183067792"
      ]
     },
     "execution_count": 16,
     "metadata": {},
     "output_type": "execute_result"
    }
   ],
   "source": [
    "hash(T)"
   ]
  },
  {
   "cell_type": "code",
   "execution_count": 17,
   "id": "0f93eded",
   "metadata": {},
   "outputs": [],
   "source": [
    "# you can use tuples for assignment\n",
    "a, b = 3, 4"
   ]
  },
  {
   "cell_type": "code",
   "execution_count": 18,
   "id": "bfdfcbc9",
   "metadata": {},
   "outputs": [
    {
     "data": {
      "text/plain": [
       "3"
      ]
     },
     "execution_count": 18,
     "metadata": {},
     "output_type": "execute_result"
    }
   ],
   "source": [
    "a"
   ]
  },
  {
   "cell_type": "code",
   "execution_count": 19,
   "id": "137d79bf",
   "metadata": {},
   "outputs": [
    {
     "data": {
      "text/plain": [
       "4"
      ]
     },
     "execution_count": 19,
     "metadata": {},
     "output_type": "execute_result"
    }
   ],
   "source": [
    "b"
   ]
  },
  {
   "cell_type": "code",
   "execution_count": 20,
   "id": "fd05c238",
   "metadata": {},
   "outputs": [],
   "source": [
    "#nice trick for swapping two values\n",
    "a, b = b, a"
   ]
  },
  {
   "cell_type": "code",
   "execution_count": 21,
   "id": "787f82f0",
   "metadata": {},
   "outputs": [
    {
     "data": {
      "text/plain": [
       "4"
      ]
     },
     "execution_count": 21,
     "metadata": {},
     "output_type": "execute_result"
    }
   ],
   "source": [
    "a"
   ]
  },
  {
   "cell_type": "code",
   "execution_count": 22,
   "id": "090f9c7b",
   "metadata": {},
   "outputs": [],
   "source": [
    "L = list(range(10))"
   ]
  },
  {
   "cell_type": "code",
   "execution_count": 24,
   "id": "3c09fd4b",
   "metadata": {},
   "outputs": [
    {
     "data": {
      "text/plain": [
       "[0, 1, 8, 27, 64, 125, 216, 343, 512, 729]"
      ]
     },
     "execution_count": 24,
     "metadata": {},
     "output_type": "execute_result"
    }
   ],
   "source": [
    "# list comprehension\n",
    "[i**3 for i in L]"
   ]
  },
  {
   "cell_type": "code",
   "execution_count": 25,
   "id": "eff4325d",
   "metadata": {},
   "outputs": [
    {
     "data": {
      "text/plain": [
       "[9, 8, 7, 6, 5, 4, 3, 2, 1, 0]"
      ]
     },
     "execution_count": 25,
     "metadata": {},
     "output_type": "execute_result"
    }
   ],
   "source": [
    "# curve ball\n",
    "L[::-1]"
   ]
  },
  {
   "cell_type": "markdown",
   "id": "a0817c43",
   "metadata": {},
   "source": [
    "<br>\n",
    "<H1>bubble sort </H1>"
   ]
  },
  {
   "cell_type": "code",
   "execution_count": 27,
   "id": "b9791234",
   "metadata": {},
   "outputs": [],
   "source": [
    "#import a module from the standard library\n",
    "import random"
   ]
  },
  {
   "cell_type": "code",
   "execution_count": 28,
   "id": "1e6aa67d",
   "metadata": {},
   "outputs": [
    {
     "data": {
      "text/plain": [
       "[1, 2, 3, 4, 5, 6, 7, 8, 9, 10]"
      ]
     },
     "execution_count": 28,
     "metadata": {},
     "output_type": "execute_result"
    }
   ],
   "source": [
    "# create a list of integers\n",
    "L = list(range(1, 11))\n",
    "L\n"
   ]
  },
  {
   "cell_type": "code",
   "execution_count": 29,
   "id": "950650e3",
   "metadata": {},
   "outputs": [],
   "source": [
    "#shuffle the list\n",
    "random.shuffle(L)"
   ]
  },
  {
   "cell_type": "code",
   "execution_count": 30,
   "id": "4f067336",
   "metadata": {},
   "outputs": [
    {
     "data": {
      "text/plain": [
       "[5, 7, 2, 4, 9, 6, 1, 10, 8, 3]"
      ]
     },
     "execution_count": 30,
     "metadata": {},
     "output_type": "execute_result"
    }
   ],
   "source": [
    "L"
   ]
  },
  {
   "cell_type": "code",
   "execution_count": 39,
   "id": "224cdf73",
   "metadata": {},
   "outputs": [
    {
     "ename": "IndentationError",
     "evalue": "expected an indented block (Temp/ipykernel_8604/3416462763.py, line 11)",
     "output_type": "error",
     "traceback": [
      "\u001b[1;36m  File \u001b[1;32m\"C:\\Users\\Liam\\AppData\\Local\\Temp/ipykernel_8604/3416462763.py\"\u001b[1;36m, line \u001b[1;32m11\u001b[0m\n\u001b[1;33m    if L[i] > L[i+1]:\u001b[0m\n\u001b[1;37m    ^\u001b[0m\n\u001b[1;31mIndentationError\u001b[0m\u001b[1;31m:\u001b[0m expected an indented block\n"
     ]
    }
   ],
   "source": [
    "# bubble sort\n",
    "\n",
    "#keep track of number of comparisons\n",
    "no_comparisons = 0\n",
    "\n",
    "# bubble every (biggest) element up\n",
    "for j in range(len(L) - 1):\n",
    "    # compare all elements that are side by side\n",
    "    for i in range(len(L) - 1):\n",
    "    #compare the ith element with the (i+1)th\n",
    "    if L[i] > L[i+1]:\n",
    "        # swap the elements\n",
    "        L[i], L[i+1] = L[i+1], L[i]\n",
    "        # keep track of the swap\n",
    "        swapped = True\n",
    "    \n",
    "    #add a comparison\n",
    "    no_comparisons = no_comparisons + 1\n",
    "#quit if we didn't make any swaps\n",
    "if not swapped:\n",
    "    break\n",
    "return no_comparisons"
   ]
  },
  {
   "cell_type": "code",
   "execution_count": 33,
   "id": "47fcbf03",
   "metadata": {},
   "outputs": [
    {
     "data": {
      "text/plain": [
       "[5, 2, 4, 7, 6, 1, 9, 8, 3, 10]"
      ]
     },
     "execution_count": 33,
     "metadata": {},
     "output_type": "execute_result"
    }
   ],
   "source": [
    "L"
   ]
  },
  {
   "cell_type": "code",
   "execution_count": 38,
   "id": "f773ba2a",
   "metadata": {},
   "outputs": [
    {
     "ename": "NameError",
     "evalue": "name 'no_comparisons' is not defined",
     "output_type": "error",
     "traceback": [
      "\u001b[1;31m---------------------------------------------------------------------------\u001b[0m",
      "\u001b[1;31mNameError\u001b[0m                                 Traceback (most recent call last)",
      "\u001b[1;32m~\\AppData\\Local\\Temp/ipykernel_8604/1883017269.py\u001b[0m in \u001b[0;36m<module>\u001b[1;34m\u001b[0m\n\u001b[1;32m----> 1\u001b[1;33m \u001b[0mno_comparisons\u001b[0m\u001b[1;33m\u001b[0m\u001b[1;33m\u001b[0m\u001b[0m\n\u001b[0m",
      "\u001b[1;31mNameError\u001b[0m: name 'no_comparisons' is not defined"
     ]
    }
   ],
   "source": [
    "no_comparisons"
   ]
  },
  {
   "cell_type": "code",
   "execution_count": null,
   "id": "d51976fb",
   "metadata": {},
   "outputs": [],
   "source": [
    "#bubb;e sort as a function\n",
    "\n",
    "def bubble_sort(L)\n",
    "\n",
    "# bubble every (biggest) element up\n",
    "for j in range(len(L) - 1):\n",
    "    # compare all elements that are side by side\n",
    "    for i in range(len(L) - 1):\n",
    "    #compare the ith element with the (i+1)th\n",
    "    if L[i] > L[i+1]:\n",
    "        # swap the elements\n",
    "        L[i], L[i+1] = L[i+1], L[i]\n",
    "        # keep track of the swap\n",
    "        swapped = True\n",
    "    \n",
    "    #add a comparison\n",
    "    no_comparisons = no_comparisons + 1\n",
    "#quit if we didn't make any swaps\n",
    "if not swapped:\n",
    "    break"
   ]
  },
  {
   "cell_type": "code",
   "execution_count": 40,
   "id": "2eed6bfa",
   "metadata": {},
   "outputs": [
    {
     "data": {
      "text/plain": [
       "[2, 4, 5, 6, 9, 8, 3, 10, 1, 7]"
      ]
     },
     "execution_count": 40,
     "metadata": {},
     "output_type": "execute_result"
    }
   ],
   "source": [
    "#create a list \n",
    "L = list(range(1, 11))\n",
    "\n",
    "#shuffle \n",
    "random.shuffle(L)\n",
    "\n",
    "#Look at it\n",
    "L"
   ]
  },
  {
   "cell_type": "markdown",
   "id": "78f8954a",
   "metadata": {},
   "source": [
    "<h1>Heap Sort</h1>"
   ]
  },
  {
   "cell_type": "code",
   "execution_count": null,
   "id": "b7c06a4b",
   "metadata": {},
   "outputs": [],
   "source": [
    "import math"
   ]
  },
  {
   "cell_type": "code",
   "execution_count": null,
   "id": "0cbb162e",
   "metadata": {},
   "outputs": [],
   "source": [
    "def heapify(a, count):\n",
    "    start = floor((count - 1 - 1) / 2\n",
    "    \n",
    "    while start >= 0:\n",
    "        siftDown(a, start, count - 1)\n",
    "        start = start - 1:"
   ]
  },
  {
   "cell_type": "code",
   "execution_count": null,
   "id": "95e202c6",
   "metadata": {},
   "outputs": [],
   "source": [
    "def siftDown(a, start, end):\n",
    "    root = start\n",
    "    \n",
    "    while ieftChild(root) <= end:\n",
    "        child = iLeftChild(root)\n",
    "        swap = root\n",
    "        \n",
    "        if a[swap] < a[child]:\n",
    "            swap = child\n",
    "        if child + 1 <= end and a[swap] < a[child + 1]:\n",
    "            swap = child + 1\n",
    "        if swap == root:\n",
    "            return\n",
    "        else:\n",
    "            a[root], a[swap] = a[swap], a[root]\n",
    "            root = swap"
   ]
  },
  {
   "cell_type": "code",
   "execution_count": null,
   "id": "58fc3437",
   "metadata": {},
   "outputs": [],
   "source": [
    "def heapsort (L):\n",
    "    \"\"\"imput: \n",
    "    an unordered array a of length count\"\"\"\n",
    "    \n",
    "    parent = (len(L) - 2)\n",
    "    end = count - 1\n",
    "    \n",
    "    while parent >= 0:\n",
    "        siftDown(L, parent, len(L) - 1)\n",
    "        start = start - 1\n",
    "    \n",
    "    (L, len(L))\n",
    "    end = len(L) - 1\n",
    "    \n",
    "    while end > 0:\n",
    "        a[0], a[end] = a[end], a[0]\n",
    "        end = end - 1\n",
    "        siftDown(a, 0, end)"
   ]
  },
  {
   "cell_type": "code",
   "execution_count": null,
   "id": "80d49378",
   "metadata": {},
   "outputs": [],
   "source": [
    "L = [5,1,3,7,8,9]\n",
    "L\n",
    "heapsort(L)\n"
   ]
  },
  {
   "cell_type": "code",
   "execution_count": null,
   "id": "9e821872",
   "metadata": {},
   "outputs": [],
   "source": [
    "import itertools\n",
    "\n",
    "for perm in intertools.permutations(range(5)):\n",
    "    L = list(perm)\n",
    "    heapsort(L)\n",
    "    print(perm, '->', L)"
   ]
  },
  {
   "cell_type": "markdown",
   "id": "22484344",
   "metadata": {},
   "source": [
    "<h1> extras </h1>"
   ]
  },
  {
   "cell_type": "code",
   "execution_count": 2,
   "id": "0676d102",
   "metadata": {},
   "outputs": [
    {
     "name": "stdout",
     "output_type": "stream",
     "text": [
      "1\n"
     ]
    }
   ],
   "source": [
    "#list \n",
    "a = 1\n",
    "\n",
    "# functions a is a reference\n",
    "def change(b):\n",
    "    b = 2\n",
    "\n",
    "# pass a has change\n",
    "change(a)\n",
    "\n",
    "# a has changed\n",
    "print(a)"
   ]
  },
  {
   "cell_type": "code",
   "execution_count": 1,
   "id": "95eb77ec",
   "metadata": {},
   "outputs": [
    {
     "name": "stdout",
     "output_type": "stream",
     "text": [
      "[1, 2, 100, 4]\n"
     ]
    }
   ],
   "source": [
    "#list \n",
    "a = [1,2,3,4]\n",
    "\n",
    "# functions a is a reference\n",
    "def change(b):\n",
    "    b[2] = 100\n",
    "    \n",
    "# pass a has change\n",
    "change(a)\n",
    "\n",
    "# a has changed\n",
    "print(a)"
   ]
  },
  {
   "cell_type": "markdown",
   "id": "f5b1715e",
   "metadata": {},
   "source": [
    "<h1> end </h1>"
   ]
  }
 ],
 "metadata": {
  "kernelspec": {
   "display_name": "Python 3 (ipykernel)",
   "language": "python",
   "name": "python3"
  },
  "language_info": {
   "codemirror_mode": {
    "name": "ipython",
    "version": 3
   },
   "file_extension": ".py",
   "mimetype": "text/x-python",
   "name": "python",
   "nbconvert_exporter": "python",
   "pygments_lexer": "ipython3",
   "version": "3.9.7"
  }
 },
 "nbformat": 4,
 "nbformat_minor": 5
}

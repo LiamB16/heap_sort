{
 "cells": [
  {
   "cell_type": "markdown",
   "id": "6db00c24",
   "metadata": {},
   "source": [
    "<h1>Heap sort</h1>"
   ]
  },
  {
   "cell_type": "markdown",
   "id": "e8d29201",
   "metadata": {},
   "source": [
    "<h2>lists in python</h2>\n"
   ]
  },
  {
   "cell_type": "code",
   "execution_count": 1,
   "id": "601d9861",
   "metadata": {},
   "outputs": [],
   "source": [
    "# lists in python can be created with square bracket notation\n",
    "L = [1, 2, 3, \"hello world\", None, True]"
   ]
  },
  {
   "cell_type": "code",
   "execution_count": 2,
   "id": "51af377f",
   "metadata": {},
   "outputs": [
    {
     "data": {
      "text/plain": [
       "True"
      ]
     },
     "execution_count": 2,
     "metadata": {},
     "output_type": "execute_result"
    }
   ],
   "source": [
    "# they are zero indexed as usual\n",
    "L[5]"
   ]
  },
  {
   "cell_type": "code",
   "execution_count": 3,
   "id": "b83c9778",
   "metadata": {},
   "outputs": [
    {
     "data": {
      "text/plain": [
       "[1, 2, 3, 4]"
      ]
     },
     "execution_count": 3,
     "metadata": {},
     "output_type": "execute_result"
    }
   ],
   "source": [
    "#crate lists with the list() function\n",
    "list([1,2,3,4])"
   ]
  },
  {
   "cell_type": "code",
   "execution_count": 4,
   "id": "a7a759d3",
   "metadata": {},
   "outputs": [
    {
     "data": {
      "text/plain": [
       "'hello world'"
      ]
     },
     "execution_count": 4,
     "metadata": {},
     "output_type": "execute_result"
    }
   ],
   "source": [
    "L[-3]"
   ]
  },
  {
   "cell_type": "code",
   "execution_count": 5,
   "id": "cf1d05e5",
   "metadata": {},
   "outputs": [
    {
     "data": {
      "text/plain": [
       "[0, 2, 4, 6, 8, 10, 12, 14, 16, 18]"
      ]
     },
     "execution_count": 5,
     "metadata": {},
     "output_type": "execute_result"
    }
   ],
   "source": [
    "# in-built function for creating iterables\n",
    "list(range(0, 20, 2))"
   ]
  },
  {
   "cell_type": "code",
   "execution_count": 6,
   "id": "8094de81",
   "metadata": {},
   "outputs": [
    {
     "data": {
      "text/plain": [
       "[0, 1, 2, 3, 4, 5, 6, 7, 8, 9, 10, 11, 12, 13, 14, 15, 16, 17, 18, 19]"
      ]
     },
     "execution_count": 6,
     "metadata": {},
     "output_type": "execute_result"
    }
   ],
   "source": [
    "# in-built function for creating iterables\n",
    "L = list(range(20))\n",
    "L"
   ]
  },
  {
   "cell_type": "code",
   "execution_count": 7,
   "id": "0388ca7e",
   "metadata": {},
   "outputs": [
    {
     "data": {
      "text/plain": [
       "[1, 3, 5, 7, 9]"
      ]
     },
     "execution_count": 7,
     "metadata": {},
     "output_type": "execute_result"
    }
   ],
   "source": [
    "#list slicing\n",
    "L[1:10:2]"
   ]
  },
  {
   "cell_type": "code",
   "execution_count": 9,
   "id": "c36a4a9c",
   "metadata": {},
   "outputs": [
    {
     "data": {
      "text/plain": [
       "[5, 6, 7, 8, 9, 10, 11, 12, 13, 14, 15, 16, 17, 18, 19, 0, 1, 2, 3, 4]"
      ]
     },
     "execution_count": 9,
     "metadata": {},
     "output_type": "execute_result"
    }
   ],
   "source": [
    "#quick way to cycle the list to the left\n",
    "i = 5\n",
    "L[i:] + L[:i]"
   ]
  },
  {
   "cell_type": "code",
   "execution_count": 12,
   "id": "c2f8c66b",
   "metadata": {},
   "outputs": [],
   "source": [
    "# tupled -- immutable\n",
    "T = (1, 2, 3, 4)\n"
   ]
  },
  {
   "cell_type": "code",
   "execution_count": 13,
   "id": "b59cd1c7",
   "metadata": {},
   "outputs": [
    {
     "data": {
      "text/plain": [
       "1"
      ]
     },
     "execution_count": 13,
     "metadata": {},
     "output_type": "execute_result"
    }
   ],
   "source": [
    "T[0]"
   ]
  },
  {
   "cell_type": "code",
   "execution_count": 14,
   "id": "09e52f77",
   "metadata": {},
   "outputs": [
    {
     "data": {
      "text/plain": [
       "(4,)"
      ]
     },
     "execution_count": 14,
     "metadata": {},
     "output_type": "execute_result"
    }
   ],
   "source": [
    "T[3:]"
   ]
  },
  {
   "cell_type": "code",
   "execution_count": 15,
   "id": "828c4f29",
   "metadata": {},
   "outputs": [
    {
     "data": {
      "text/plain": [
       "(1, 2, 3, 4)"
      ]
     },
     "execution_count": 15,
     "metadata": {},
     "output_type": "execute_result"
    }
   ],
   "source": [
    "# tuples are created with commas, as opposed to round brackets\n",
    "T = 1, 2, 3, 4\n",
    "T"
   ]
  },
  {
   "cell_type": "code",
   "execution_count": 16,
   "id": "1e585681",
   "metadata": {},
   "outputs": [
    {
     "data": {
      "text/plain": [
       "590899387183067792"
      ]
     },
     "execution_count": 16,
     "metadata": {},
     "output_type": "execute_result"
    }
   ],
   "source": [
    "hash(T)"
   ]
  },
  {
   "cell_type": "code",
   "execution_count": 17,
   "id": "0f93eded",
   "metadata": {},
   "outputs": [],
   "source": [
    "# you can use tuples for assignment\n",
    "a, b = 3, 4"
   ]
  },
  {
   "cell_type": "code",
   "execution_count": 18,
   "id": "bfdfcbc9",
   "metadata": {},
   "outputs": [
    {
     "data": {
      "text/plain": [
       "3"
      ]
     },
     "execution_count": 18,
     "metadata": {},
     "output_type": "execute_result"
    }
   ],
   "source": [
    "a"
   ]
  },
  {
   "cell_type": "code",
   "execution_count": 19,
   "id": "137d79bf",
   "metadata": {},
   "outputs": [
    {
     "data": {
      "text/plain": [
       "4"
      ]
     },
     "execution_count": 19,
     "metadata": {},
     "output_type": "execute_result"
    }
   ],
   "source": [
    "b"
   ]
  },
  {
   "cell_type": "code",
   "execution_count": 20,
   "id": "fd05c238",
   "metadata": {},
   "outputs": [],
   "source": [
    "#nice trick for swapping two values\n",
    "a, b = b, a"
   ]
  },
  {
   "cell_type": "code",
   "execution_count": 21,
   "id": "787f82f0",
   "metadata": {},
   "outputs": [
    {
     "data": {
      "text/plain": [
       "4"
      ]
     },
     "execution_count": 21,
     "metadata": {},
     "output_type": "execute_result"
    }
   ],
   "source": [
    "a"
   ]
  },
  {
   "cell_type": "code",
   "execution_count": 22,
   "id": "090f9c7b",
   "metadata": {},
   "outputs": [],
   "source": [
    "L = list(range(10))"
   ]
  },
  {
   "cell_type": "code",
   "execution_count": 24,
   "id": "3c09fd4b",
   "metadata": {},
   "outputs": [
    {
     "data": {
      "text/plain": [
       "[0, 1, 8, 27, 64, 125, 216, 343, 512, 729]"
      ]
     },
     "execution_count": 24,
     "metadata": {},
     "output_type": "execute_result"
    }
   ],
   "source": [
    "# list comprehension\n",
    "[i**3 for i in L]"
   ]
  },
  {
   "cell_type": "code",
   "execution_count": 25,
   "id": "eff4325d",
   "metadata": {},
   "outputs": [
    {
     "data": {
      "text/plain": [
       "[9, 8, 7, 6, 5, 4, 3, 2, 1, 0]"
      ]
     },
     "execution_count": 25,
     "metadata": {},
     "output_type": "execute_result"
    }
   ],
   "source": [
    "# curve ball\n",
    "L[::-1]"
   ]
  },
  {
   "cell_type": "markdown",
   "id": "a0817c43",
   "metadata": {},
   "source": [
    "<br>\n",
    "<H1>bubble sort </H1>"
   ]
  },
  {
   "cell_type": "code",
   "execution_count": 27,
   "id": "b9791234",
   "metadata": {},
   "outputs": [],
   "source": [
    "#import a module from the standard library\n",
    "import random"
   ]
  },
  {
   "cell_type": "code",
   "execution_count": 28,
   "id": "1e6aa67d",
   "metadata": {},
   "outputs": [
    {
     "data": {
      "text/plain": [
       "[1, 2, 3, 4, 5, 6, 7, 8, 9, 10]"
      ]
     },
     "execution_count": 28,
     "metadata": {},
     "output_type": "execute_result"
    }
   ],
   "source": [
    "# create a list of integers\n",
    "L = list(range(1, 11))\n",
    "L\n"
   ]
  },
  {
   "cell_type": "code",
   "execution_count": 29,
   "id": "950650e3",
   "metadata": {},
   "outputs": [],
   "source": [
    "#shuffle the list\n",
    "random.shuffle(L)"
   ]
  },
  {
   "cell_type": "code",
   "execution_count": 30,
   "id": "4f067336",
   "metadata": {},
   "outputs": [
    {
     "data": {
      "text/plain": [
       "[5, 7, 2, 4, 9, 6, 1, 10, 8, 3]"
      ]
     },
     "execution_count": 30,
     "metadata": {},
     "output_type": "execute_result"
    }
   ],
   "source": [
    "L"
   ]
  },
  {
   "cell_type": "code",
   "execution_count": 35,
   "id": "224cdf73",
   "metadata": {},
   "outputs": [],
   "source": [
    "# bubble sort\n",
    "\n",
    "#keep track of number of comparisons\n",
    "no_comparisons = 0\n",
    "\n",
    "# bubble every (biggest) element up\n",
    "for j in range(len(L) - 1):\n",
    "    # compare all elements that are side by side\n",
    "    for i in range(len(L) - 1):\n",
    "        # keep track of any swaps\n",
    "        swapped = False\n",
    "        #compare the ith element with the (i+1)th\n",
    "        if L[i] > L[i+1]:\n",
    "            # swap the elements\n",
    "            L[i], L[i+1] = L[i+1], L[i]\n",
    "            # keep track of the swap\n",
    "            swapped = True\n",
    "         #add a comparison\n",
    "        no_comparisons = no_comparisons + 1\n",
    "      #quit if we didn't make any swaps\n",
    "    if not swapped:\n",
    "        break\n"
   ]
  },
  {
   "cell_type": "code",
   "execution_count": 33,
   "id": "47fcbf03",
   "metadata": {},
   "outputs": [
    {
     "data": {
      "text/plain": [
       "[5, 2, 4, 7, 6, 1, 9, 8, 3, 10]"
      ]
     },
     "execution_count": 33,
     "metadata": {},
     "output_type": "execute_result"
    }
   ],
   "source": [
    "L"
   ]
  },
  {
   "cell_type": "markdown",
   "id": "9520916e",
   "metadata": {},
   "source": [
    "<h2> no comparison </h2>"
   ]
  },
  {
   "cell_type": "code",
   "execution_count": 21,
   "id": "d51976fb",
   "metadata": {},
   "outputs": [],
   "source": [
    "# Bubble sort as a function.\n",
    "def bubble_sort(L):\n",
    "    # Keep track of number of comparisons.\n",
    "    no_comparisons = 0\n",
    "\n",
    "    # Bubble every (biggest) element up.\n",
    "    for j in range(len(L) - 1):\n",
    "        # Keep track of any swaps.\n",
    "        swapped = False\n",
    "        # Compare all elements that are side by side.\n",
    "        for i in range(len(L) - 1 - j):\n",
    "            # Compare the ith element with the (i+1)th.\n",
    "            if L[i] > L[i+1]:\n",
    "                # Swap the elements.\n",
    "                L[i], L[i+1] = L[i+1], L[i]\n",
    "                # Keep track of the swap.\n",
    "                swapped = True\n",
    "            # Add a comparison.\n",
    "            no_comparisons = no_comparisons + 1\n",
    "        # Quit if we didn't make any swaps.\n",
    "        if not swapped:\n",
    "            break\n",
    "    # Return the number of comparisons made.\n",
    "    return no_comparisons"
   ]
  },
  {
   "cell_type": "code",
   "execution_count": 40,
   "id": "2eed6bfa",
   "metadata": {},
   "outputs": [
    {
     "data": {
      "text/plain": [
       "[2, 4, 5, 6, 9, 8, 3, 10, 1, 7]"
      ]
     },
     "execution_count": 40,
     "metadata": {},
     "output_type": "execute_result"
    }
   ],
   "source": [
    "#create a list \n",
    "L = list(range(1, 11))\n",
    "\n",
    "#shuffle \n",
    "random.shuffle(L)\n",
    "\n",
    "#Look at it\n",
    "L"
   ]
  },
  {
   "cell_type": "markdown",
   "id": "78f8954a",
   "metadata": {},
   "source": [
    "<h1>Heap Sort</h1>"
   ]
  },
  {
   "cell_type": "code",
   "execution_count": 6,
   "id": "b7c06a4b",
   "metadata": {},
   "outputs": [],
   "source": [
    "import math"
   ]
  },
  {
   "cell_type": "code",
   "execution_count": null,
   "id": "0cbb162e",
   "metadata": {},
   "outputs": [],
   "source": []
  },
  {
   "cell_type": "code",
   "execution_count": 25,
   "id": "95e202c6",
   "metadata": {},
   "outputs": [],
   "source": [
    "def siftDown(L, parent, end):\n",
    "    \"\"\"L[parent:end+1] should almost be a max heap.\n",
    "       siftDown repairs it so that it is one.\"\"\"\n",
    "    \n",
    "    # Keep track of the number of comparisons.\n",
    "    no_comparisons = 0\n",
    "    \n",
    "    # While parent is actually a parent (has at least a left child).\n",
    "    while 2*parent + 1 <= end:\n",
    "        # The indices of the children of parent.\n",
    "        lchild = 2 * parent + 1\n",
    "        rchild = 2 * parent + 2\n",
    "        \n",
    "        # Assume the parent is larger than the children.\n",
    "        swap = parent\n",
    "        # Is the parent smaller than the left child?\n",
    "        if L[swap] < L[lchild]:\n",
    "            # Then swap is set to index of left child.\n",
    "            swap = lchild\n",
    "            # Increment no_comparisons.\n",
    "            no_comparisons = no_comparisons + 1\n",
    "        # Check if right child exists and is smaller than L[swap].\n",
    "        if rchild <= end and L[swap] < L[rchild]:\n",
    "            # Then swap is set to index of right child.\n",
    "            swap = rchild\n",
    "            # Increment no_comparisons.\n",
    "            no_comparisons = no_comparisons + 1\n",
    "        # We have a max heap if the parent is bigger than the children.\n",
    "        if swap == parent:\n",
    "            break \n",
    "        else:\n",
    "            # Swap the parent with the bigger child.\n",
    "            L[parent], L[swap] = L[swap], L[parent]\n",
    "            # Set parent to bigger child's index.\n",
    "            parent = swap\n",
    "    \n",
    "    # Return the number of comparisons.\n",
    "    return no_comparisons"
   ]
  },
  {
   "cell_type": "code",
   "execution_count": 23,
   "id": "58fc3437",
   "metadata": {},
   "outputs": [],
   "source": [
    "def heapsort(L):\n",
    "    \"\"\"Sorts the list L in-place using Heap Sort.\"\"\"\n",
    "    \n",
    "    # Keep track of the number of comparisons.\n",
    "    no_comparisons = 0\n",
    "    \n",
    "    # Turn L into a max heap.\n",
    "    # Index of the last element.\n",
    "    last_element = len(L) - 1\n",
    "    # Find the last parent.\n",
    "    last_parent = (last_element - 1) // 2\n",
    "    # Loop backwards through all parents.\n",
    "    for parent in range(last_parent, -1, -1):\n",
    "        # Sift down.\n",
    "        no_comparisons = no_comparisons + siftDown(L, parent, last_element)\n",
    "\n",
    "    # Segregate the list L into two parts:\n",
    "    #   1. L[:end] is a max heap\n",
    "    #   2. Each element beyond end is greater than everything before it.\n",
    "    # While there are still elements in the heap.\n",
    "    for end in range(last_element, 0, -1):\n",
    "        # Swap the element at index 0 with the element at index end.\n",
    "        L[0], L[end] = L[end], L[0]\n",
    "        # Fix the heap - the root is currently out of place.\n",
    "        no_comparisons = no_comparisons + siftDown(L, 0, end - 1)\n",
    "    \n",
    "    # Return the number of comparisons.\n",
    "    return no_comparisons"
   ]
  },
  {
   "cell_type": "code",
   "execution_count": 45,
   "id": "80d49378",
   "metadata": {},
   "outputs": [
    {
     "data": {
      "text/plain": [
       "([1, 2, 3, 7, 17, 19, 25, 36, 100], 12)"
      ]
     },
     "execution_count": 45,
     "metadata": {},
     "output_type": "execute_result"
    }
   ],
   "source": [
    "# Perform heap sort, show number of comparisons.\n",
    "L = [19, 100, 36, 25, 3, 17, 7, 1, 2]\n",
    "no_comparisons = heapsort(L)\n",
    "L, no_comparisons"
   ]
  },
  {
   "cell_type": "code",
   "execution_count": 49,
   "id": "134f3b95",
   "metadata": {},
   "outputs": [
    {
     "data": {
      "text/plain": [
       "([1, 2, 3, 7, 17, 19, 25, 36, 100], 36)"
      ]
     },
     "execution_count": 49,
     "metadata": {},
     "output_type": "execute_result"
    }
   ],
   "source": [
    "# Perform bubble sort, show number of comparisons.\n",
    "L = [19, 100, 36, 25, 3, 17, 7, 1, 2]\n",
    "no_comparisons = bubble_sort(L)\n",
    "L, no_comparisons"
   ]
  },
  {
   "cell_type": "code",
   "execution_count": 26,
   "id": "9e821872",
   "metadata": {},
   "outputs": [
    {
     "name": "stdout",
     "output_type": "stream",
     "text": [
      "0, 1, 2, 3, 4|4|8\n",
      "0, 1, 2, 4, 3|7|9\n",
      "0, 1, 3, 2, 4|7|7\n",
      "0, 1, 3, 4, 2|9|8\n",
      "0, 1, 4, 2, 3|7|8\n",
      "0, 1, 4, 3, 2|9|6\n",
      "0, 2, 1, 3, 4|7|6\n",
      "0, 2, 1, 4, 3|7|7\n",
      "0, 2, 3, 1, 4|9|8\n",
      "0, 2, 3, 4, 1|10|6\n",
      "0, 2, 4, 1, 3|9|6\n",
      "0, 2, 4, 3, 1|10|7\n",
      "0, 3, 1, 2, 4|7|7\n",
      "0, 3, 1, 4, 2|9|5\n",
      "0, 3, 2, 1, 4|9|9\n",
      "0, 3, 2, 4, 1|10|7\n",
      "0, 3, 4, 1, 2|9|5\n",
      "0, 3, 4, 2, 1|10|6\n",
      "0, 4, 1, 2, 3|7|6\n",
      "0, 4, 1, 3, 2|9|4\n",
      "0, 4, 2, 1, 3|9|8\n",
      "0, 4, 2, 3, 1|10|6\n",
      "0, 4, 3, 1, 2|9|7\n",
      "0, 4, 3, 2, 1|10|5\n",
      "1, 0, 2, 3, 4|7|9\n",
      "1, 0, 2, 4, 3|7|7\n",
      "1, 0, 3, 2, 4|7|8\n",
      "1, 0, 3, 4, 2|9|6\n",
      "1, 0, 4, 2, 3|7|7\n",
      "1, 0, 4, 3, 2|9|5\n",
      "1, 2, 0, 3, 4|9|7\n",
      "1, 2, 0, 4, 3|9|8\n",
      "1, 2, 3, 0, 4|10|6\n",
      "1, 2, 3, 4, 0|10|7\n",
      "1, 2, 4, 0, 3|10|5\n",
      "1, 2, 4, 3, 0|10|6\n",
      "1, 3, 0, 2, 4|9|8\n",
      "1, 3, 0, 4, 2|9|6\n",
      "1, 3, 2, 0, 4|10|7\n",
      "1, 3, 2, 4, 0|10|8\n",
      "1, 3, 4, 0, 2|10|4\n",
      "1, 3, 4, 2, 0|10|5\n",
      "1, 4, 0, 2, 3|9|7\n",
      "1, 4, 0, 3, 2|9|5\n",
      "1, 4, 2, 0, 3|10|6\n",
      "1, 4, 2, 3, 0|10|7\n",
      "1, 4, 3, 0, 2|10|5\n",
      "1, 4, 3, 2, 0|10|6\n",
      "2, 0, 1, 3, 4|7|7\n",
      "2, 0, 1, 4, 3|7|5\n",
      "2, 0, 3, 1, 4|9|7\n",
      "2, 0, 3, 4, 1|10|5\n",
      "2, 0, 4, 1, 3|9|9\n",
      "2, 0, 4, 3, 1|10|7\n",
      "2, 1, 0, 3, 4|9|8\n",
      "2, 1, 0, 4, 3|9|6\n",
      "2, 1, 3, 0, 4|10|5\n",
      "2, 1, 3, 4, 0|10|6\n",
      "2, 1, 4, 0, 3|10|7\n",
      "2, 1, 4, 3, 0|10|8\n",
      "2, 3, 0, 1, 4|9|6\n",
      "2, 3, 0, 4, 1|10|7\n",
      "2, 3, 1, 0, 4|10|5\n",
      "2, 3, 1, 4, 0|10|6\n",
      "2, 3, 4, 0, 1|10|6\n",
      "2, 3, 4, 1, 0|10|7\n",
      "2, 4, 0, 1, 3|9|5\n",
      "2, 4, 0, 3, 1|10|6\n",
      "2, 4, 1, 0, 3|10|4\n",
      "2, 4, 1, 3, 0|10|5\n",
      "2, 4, 3, 0, 1|10|4\n",
      "2, 4, 3, 1, 0|10|5\n",
      "3, 0, 1, 2, 4|7|6\n",
      "3, 0, 1, 4, 2|9|4\n",
      "3, 0, 2, 1, 4|9|8\n",
      "3, 0, 2, 4, 1|10|6\n",
      "3, 0, 4, 1, 2|9|7\n",
      "3, 0, 4, 2, 1|10|5\n",
      "3, 1, 0, 2, 4|9|7\n",
      "3, 1, 0, 4, 2|9|5\n",
      "3, 1, 2, 0, 4|10|6\n",
      "3, 1, 2, 4, 0|10|7\n",
      "3, 1, 4, 0, 2|10|5\n",
      "3, 1, 4, 2, 0|10|6\n",
      "3, 2, 0, 1, 4|9|5\n",
      "3, 2, 0, 4, 1|10|6\n",
      "3, 2, 1, 0, 4|10|4\n",
      "3, 2, 1, 4, 0|10|5\n",
      "3, 2, 4, 0, 1|10|4\n",
      "3, 2, 4, 1, 0|10|5\n",
      "3, 4, 0, 1, 2|9|4\n",
      "3, 4, 0, 2, 1|10|5\n",
      "3, 4, 1, 0, 2|10|3\n",
      "3, 4, 1, 2, 0|10|4\n",
      "3, 4, 2, 0, 1|10|5\n",
      "3, 4, 2, 1, 0|10|6\n",
      "4, 0, 1, 2, 3|7|5\n",
      "4, 0, 1, 3, 2|9|3\n",
      "4, 0, 2, 1, 3|9|7\n",
      "4, 0, 2, 3, 1|10|5\n",
      "4, 0, 3, 1, 2|9|6\n",
      "4, 0, 3, 2, 1|10|4\n",
      "4, 1, 0, 2, 3|9|6\n",
      "4, 1, 0, 3, 2|9|4\n",
      "4, 1, 2, 0, 3|10|5\n",
      "4, 1, 2, 3, 0|10|6\n",
      "4, 1, 3, 0, 2|10|4\n",
      "4, 1, 3, 2, 0|10|5\n",
      "4, 2, 0, 1, 3|9|4\n",
      "4, 2, 0, 3, 1|10|5\n",
      "4, 2, 1, 0, 3|10|3\n",
      "4, 2, 1, 3, 0|10|4\n",
      "4, 2, 3, 0, 1|10|3\n",
      "4, 2, 3, 1, 0|10|4\n",
      "4, 3, 0, 1, 2|9|3\n",
      "4, 3, 0, 2, 1|10|4\n",
      "4, 3, 1, 0, 2|10|2\n",
      "4, 3, 1, 2, 0|10|3\n",
      "4, 3, 2, 0, 1|10|4\n",
      "4, 3, 2, 1, 0|10|5\n"
     ]
    }
   ],
   "source": [
    "# A module full of combinatorial functions.\n",
    "import itertools\n",
    "\n",
    "# Length of example list.\n",
    "n = 5\n",
    "\n",
    "# Loop through all permutations of the list of integers from 0 to n.\n",
    "for perm in itertools.permutations(range(n)):\n",
    "    L = list(perm)\n",
    "    bubb_comp = bubble_sort(L)\n",
    "    L = list(perm)\n",
    "    heap_comp = heapsort(L)\n",
    "    print(f'{str(perm)[1:-1]}|{bubb_comp}|{heap_comp}')"
   ]
  },
  {
   "cell_type": "code",
   "execution_count": 30,
   "id": "037c5ff5",
   "metadata": {},
   "outputs": [],
   "source": [
    "# Like Excel for Python\n",
    "import pandas as pd"
   ]
  },
  {
   "cell_type": "code",
   "execution_count": 28,
   "id": "f3c27881",
   "metadata": {},
   "outputs": [],
   "source": [
    "# Length of example list.\n",
    "n = 9\n",
    "\n",
    "results = [[str(perm)[1:-1], bubble_sort(list(perm)), heapsort(list(perm))] for perm in itertools.permutations(range(n))]"
   ]
  },
  {
   "cell_type": "code",
   "execution_count": 31,
   "id": "45878b53",
   "metadata": {},
   "outputs": [],
   "source": [
    "df = pd.DataFrame(results, columns=['list', 'bubble', 'heap'])"
   ]
  },
  {
   "cell_type": "code",
   "execution_count": 32,
   "id": "111d5d1c",
   "metadata": {},
   "outputs": [
    {
     "data": {
      "text/html": [
       "<div>\n",
       "<style scoped>\n",
       "    .dataframe tbody tr th:only-of-type {\n",
       "        vertical-align: middle;\n",
       "    }\n",
       "\n",
       "    .dataframe tbody tr th {\n",
       "        vertical-align: top;\n",
       "    }\n",
       "\n",
       "    .dataframe thead th {\n",
       "        text-align: right;\n",
       "    }\n",
       "</style>\n",
       "<table border=\"1\" class=\"dataframe\">\n",
       "  <thead>\n",
       "    <tr style=\"text-align: right;\">\n",
       "      <th></th>\n",
       "      <th>list</th>\n",
       "      <th>bubble</th>\n",
       "      <th>heap</th>\n",
       "    </tr>\n",
       "  </thead>\n",
       "  <tbody>\n",
       "    <tr>\n",
       "      <th>0</th>\n",
       "      <td>0, 1, 2, 3, 4, 5, 6, 7, 8</td>\n",
       "      <td>8</td>\n",
       "      <td>25</td>\n",
       "    </tr>\n",
       "    <tr>\n",
       "      <th>1</th>\n",
       "      <td>0, 1, 2, 3, 4, 5, 6, 8, 7</td>\n",
       "      <td>15</td>\n",
       "      <td>23</td>\n",
       "    </tr>\n",
       "    <tr>\n",
       "      <th>2</th>\n",
       "      <td>0, 1, 2, 3, 4, 5, 7, 6, 8</td>\n",
       "      <td>15</td>\n",
       "      <td>24</td>\n",
       "    </tr>\n",
       "    <tr>\n",
       "      <th>3</th>\n",
       "      <td>0, 1, 2, 3, 4, 5, 7, 8, 6</td>\n",
       "      <td>21</td>\n",
       "      <td>24</td>\n",
       "    </tr>\n",
       "    <tr>\n",
       "      <th>4</th>\n",
       "      <td>0, 1, 2, 3, 4, 5, 8, 6, 7</td>\n",
       "      <td>15</td>\n",
       "      <td>22</td>\n",
       "    </tr>\n",
       "  </tbody>\n",
       "</table>\n",
       "</div>"
      ],
      "text/plain": [
       "                        list  bubble  heap\n",
       "0  0, 1, 2, 3, 4, 5, 6, 7, 8       8    25\n",
       "1  0, 1, 2, 3, 4, 5, 6, 8, 7      15    23\n",
       "2  0, 1, 2, 3, 4, 5, 7, 6, 8      15    24\n",
       "3  0, 1, 2, 3, 4, 5, 7, 8, 6      21    24\n",
       "4  0, 1, 2, 3, 4, 5, 8, 6, 7      15    22"
      ]
     },
     "execution_count": 32,
     "metadata": {},
     "output_type": "execute_result"
    }
   ],
   "source": [
    "df.head()"
   ]
  },
  {
   "cell_type": "markdown",
   "id": "22484344",
   "metadata": {},
   "source": [
    "<h1> extras </h1>"
   ]
  },
  {
   "cell_type": "code",
   "execution_count": 2,
   "id": "0676d102",
   "metadata": {},
   "outputs": [
    {
     "name": "stdout",
     "output_type": "stream",
     "text": [
      "1\n"
     ]
    }
   ],
   "source": [
    "#list \n",
    "a = 1\n",
    "\n",
    "# functions a is a reference\n",
    "def change(b):\n",
    "    b = 2\n",
    "\n",
    "# pass a has change\n",
    "change(a)\n",
    "\n",
    "# a has changed\n",
    "print(a)"
   ]
  },
  {
   "cell_type": "code",
   "execution_count": 1,
   "id": "95eb77ec",
   "metadata": {},
   "outputs": [
    {
     "name": "stdout",
     "output_type": "stream",
     "text": [
      "[1, 2, 100, 4]\n"
     ]
    }
   ],
   "source": [
    "#list \n",
    "a = [1,2,3,4]\n",
    "\n",
    "# functions a is a reference\n",
    "def change(b):\n",
    "    b[2] = 100\n",
    "    \n",
    "# pass a has change\n",
    "change(a)\n",
    "\n",
    "# a has changed\n",
    "print(a)"
   ]
  },
  {
   "cell_type": "markdown",
   "id": "f5b1715e",
   "metadata": {},
   "source": [
    "<h1> end </h1>"
   ]
  },
  {
   "cell_type": "code",
   "execution_count": 6,
   "id": "58671bdb",
   "metadata": {},
   "outputs": [],
   "source": [
    "#plots \n",
    "import matplotlib.pyplot as plt"
   ]
  },
  {
   "cell_type": "code",
   "execution_count": 7,
   "id": "0cc944d7",
   "metadata": {},
   "outputs": [],
   "source": [
    "# Change default plot size.\n",
    "plt.rcParams[\"figure.figsize\"] = (20, 8)"
   ]
  },
  {
   "cell_type": "code",
   "execution_count": 8,
   "id": "0a9581e6",
   "metadata": {},
   "outputs": [],
   "source": [
    "# Graphs.\n",
    "import networkx as nx"
   ]
  },
  {
   "cell_type": "code",
   "execution_count": 9,
   "id": "729d1c98",
   "metadata": {},
   "outputs": [],
   "source": [
    "# Math functions.\n",
    "import math"
   ]
  },
  {
   "cell_type": "code",
   "execution_count": 10,
   "id": "9415e53a",
   "metadata": {},
   "outputs": [],
   "source": [
    "# Numerical and random functions.\n",
    "import numpy as np"
   ]
  },
  {
   "cell_type": "code",
   "execution_count": 11,
   "id": "cf235fee",
   "metadata": {},
   "outputs": [],
   "source": [
    "# Set up the random number generator - setting seed means we get same random sequence each time.\n",
    "rng = np.random.default_rng(seed=0)"
   ]
  },
  {
   "cell_type": "code",
   "execution_count": 12,
   "id": "bc15cd72",
   "metadata": {},
   "outputs": [
    {
     "data": {
      "text/plain": [
       "[4, 6, 2, 7, 3, 5, 9, 0, 8, 1]"
      ]
     },
     "execution_count": 12,
     "metadata": {},
     "output_type": "execute_result"
    }
   ],
   "source": [
    "# Shuffle a list of integers.\n",
    "L = list(rng.permutation(10))\n",
    "L"
   ]
  },
  {
   "cell_type": "markdown",
   "id": "fd952805",
   "metadata": {},
   "source": [
    "<h1>Heap Sort Continuation</h1>"
   ]
  },
  {
   "cell_type": "code",
   "execution_count": 2,
   "id": "cc993a7d",
   "metadata": {},
   "outputs": [],
   "source": [
    "def drawtree(L, highlight=None):\n",
    "  # Create a fully balanced binary tree.\n",
    "  T = nx.balanced_tree(2, math.floor(math.log(len(L), 2)))\n",
    "  # Remove nodes beyond the length of L.\n",
    "  T.remove_nodes_from(list(T.nodes)[len(L):])\n",
    "  # Relabel the nodes with elements of L.\n",
    "  T = nx.relabel_nodes(T, dict(zip(T.nodes, L)), copy=True)\n",
    "  # Get nice positions for the nodes in the picture.\n",
    "  pos = nx.drawing.nx_pydot.graphviz_layout(T, prog=\"dot\")\n",
    "  # Draw the graph.\n",
    "  nx.draw(T, pos, with_labels=True, node_color='lightgrey', node_size=1600, font_size=32)\n",
    "  # Highlight nodes if needed.\n",
    "  if highlight:\n",
    "    nx.draw_networkx(T.subgraph([i for i in T.nodes if i in highlight]), pos=pos, node_color='pink', node_size=1600, font_size=32)"
   ]
  },
  {
   "cell_type": "code",
   "execution_count": null,
   "id": "d10546b4",
   "metadata": {},
   "outputs": [],
   "source": []
  },
  {
   "cell_type": "code",
   "execution_count": 13,
   "id": "f376c184",
   "metadata": {},
   "outputs": [
    {
     "data": {
      "image/png": "[encoded data removed]",
      "text/plain": [
       "<Figure size 1440x576 with 1 Axes>"
      ]
     },
     "metadata": {},
     "output_type": "display_data"
    }
   ],
   "source": [
    "\n",
    "drawtree(L)"
   ]
  },
  {
   "cell_type": "code",
   "execution_count": 66,
   "id": "3cca566a",
   "metadata": {},
   "outputs": [],
   "source": [
    "S = []"
   ]
  },
  {
   "cell_type": "code",
   "execution_count": 67,
   "id": "bbd13ea0",
   "metadata": {},
   "outputs": [],
   "source": [
    "S = [L[0]] + S"
   ]
  },
  {
   "cell_type": "code",
   "execution_count": 68,
   "id": "08ea51ee",
   "metadata": {},
   "outputs": [
    {
     "data": {
      "text/plain": [
       "[4]"
      ]
     },
     "execution_count": 68,
     "metadata": {},
     "output_type": "execute_result"
    }
   ],
   "source": [
    "S"
   ]
  },
  {
   "cell_type": "code",
   "execution_count": 69,
   "id": "0e22a90e",
   "metadata": {},
   "outputs": [],
   "source": [
    "L[0], L[-1] = L[-1], L[0]"
   ]
  },
  {
   "cell_type": "code",
   "execution_count": 70,
   "id": "2c164c4c",
   "metadata": {},
   "outputs": [
    {
     "data": {
      "text/plain": [
       "[1, 6, 2, 7, 3, 5, 9, 0, 8, 4]"
      ]
     },
     "execution_count": 70,
     "metadata": {},
     "output_type": "execute_result"
    }
   ],
   "source": [
    "L"
   ]
  },
  {
   "cell_type": "code",
   "execution_count": 71,
   "id": "cb32a1c9",
   "metadata": {},
   "outputs": [
    {
     "data": {
      "text/plain": [
       "[1, 6, 2, 7, 3, 5, 9, 0, 8]"
      ]
     },
     "execution_count": 71,
     "metadata": {},
     "output_type": "execute_result"
    }
   ],
   "source": [
    "L = L[:-1]\n",
    "L"
   ]
  },
  {
   "cell_type": "code",
   "execution_count": 72,
   "id": "979c7810",
   "metadata": {},
   "outputs": [
    {
     "data": {
      "text/plain": [
       "([1, 6, 2, 7, 3, 5, 9, 0, 8], [4])"
      ]
     },
     "execution_count": 72,
     "metadata": {},
     "output_type": "execute_result"
    }
   ],
   "source": [
    "L, S"
   ]
  },
  {
   "cell_type": "code",
   "execution_count": 73,
   "id": "1329c078",
   "metadata": {},
   "outputs": [],
   "source": [
    "L[1], L[3] = L[3], L[1]"
   ]
  },
  {
   "cell_type": "code",
   "execution_count": 15,
   "id": "7f60dd00",
   "metadata": {},
   "outputs": [
    {
     "data": {
      "text/plain": [
       "[0,\n",
       " 1,\n",
       " 2,\n",
       " 3,\n",
       " 4,\n",
       " 5,\n",
       " 6,\n",
       " 7,\n",
       " 8,\n",
       " 9,\n",
       " 10,\n",
       " 11,\n",
       " 12,\n",
       " 13,\n",
       " 14,\n",
       " 15,\n",
       " 16,\n",
       " 17,\n",
       " 18,\n",
       " 19,\n",
       " 20,\n",
       " 21,\n",
       " 22,\n",
       " 23,\n",
       " 24,\n",
       " 25,\n",
       " 26,\n",
       " 27,\n",
       " 28,\n",
       " 29,\n",
       " 30]"
      ]
     },
     "execution_count": 15,
     "metadata": {},
     "output_type": "execute_result"
    },
    {
     "data": {
      "image/png": "[encoded data removed]",
      "text/plain": [
       "<Figure size 1440x576 with 1 Axes>"
      ]
     },
     "metadata": {},
     "output_type": "display_data"
    }
   ],
   "source": [
    "drawtree(L, [0, 1])\n",
    "L"
   ]
  },
  {
   "cell_type": "markdown",
   "id": "fd0d3ef6",
   "metadata": {},
   "source": [
    "<h1>Log n </h1>"
   ]
  },
  {
   "cell_type": "code",
   "execution_count": 1,
   "id": "8b53beb7",
   "metadata": {},
   "outputs": [
    {
     "data": {
      "text/plain": [
       "16"
      ]
     },
     "execution_count": 1,
     "metadata": {},
     "output_type": "execute_result"
    }
   ],
   "source": [
    "2**4"
   ]
  },
  {
   "cell_type": "code",
   "execution_count": 2,
   "id": "e39e4988",
   "metadata": {},
   "outputs": [
    {
     "data": {
      "text/plain": [
       "0.0625"
      ]
     },
     "execution_count": 2,
     "metadata": {},
     "output_type": "execute_result"
    }
   ],
   "source": [
    "2**(-4)"
   ]
  },
  {
   "cell_type": "code",
   "execution_count": 3,
   "id": "a9564176",
   "metadata": {},
   "outputs": [
    {
     "data": {
      "text/plain": [
       "1.4142135623730951"
      ]
     },
     "execution_count": 3,
     "metadata": {},
     "output_type": "execute_result"
    }
   ],
   "source": [
    "2**(0.5)"
   ]
  },
  {
   "cell_type": "code",
   "execution_count": 4,
   "id": "1c03c0cb",
   "metadata": {},
   "outputs": [],
   "source": [
    "import math"
   ]
  },
  {
   "cell_type": "code",
   "execution_count": 5,
   "id": "383fdb68",
   "metadata": {},
   "outputs": [
    {
     "data": {
      "text/plain": [
       "1.0"
      ]
     },
     "execution_count": 5,
     "metadata": {},
     "output_type": "execute_result"
    }
   ],
   "source": [
    "math.log(2, 2)"
   ]
  },
  {
   "cell_type": "markdown",
   "id": "3376223d",
   "metadata": {},
   "source": [
    "<h1>Height Of The Tree </h1>"
   ]
  },
  {
   "cell_type": "code",
   "execution_count": 14,
   "id": "b4d1f7cc",
   "metadata": {},
   "outputs": [
    {
     "name": "stdout",
     "output_type": "stream",
     "text": [
      "[0, 1, 2, 3, 4, 5, 6, 7, 8, 9, 10, 11, 12, 13, 14, 15, 16, 17, 18, 19, 20, 21, 22, 23, 24, 25, 26, 27, 28, 29, 30]\n"
     ]
    },
    {
     "data": {
      "image/png": "[encoded data removed]",
      "text/plain": [
       "<Figure size 1440x576 with 1 Axes>"
      ]
     },
     "metadata": {},
     "output_type": "display_data"
    }
   ],
   "source": [
    "# Length of the list.\n",
    "n = 31\n",
    "# Create a list of length n.\n",
    "L = list(range(n))\n",
    "# Show the list.\n",
    "print(L)\n",
    "# Draw the tree from L.\n",
    "drawtree(L)"
   ]
  },
  {
   "cell_type": "code",
   "execution_count": 10,
   "id": "0981654f",
   "metadata": {},
   "outputs": [
    {
     "data": {
      "text/plain": [
       "31"
      ]
     },
     "execution_count": 10,
     "metadata": {},
     "output_type": "execute_result"
    }
   ],
   "source": [
    "2**0 + 2**1 + 2**2 + 2**3 + 2**4"
   ]
  },
  {
   "cell_type": "code",
   "execution_count": 11,
   "id": "5f534959",
   "metadata": {},
   "outputs": [],
   "source": [
    "def max_list_length(height):\n",
    "    total_nodes = 0\n",
    "    for i in range(height + 1):\n",
    "        total_nodes = total_nodes + 2**i\n",
    "    return total_nodes"
   ]
  },
  {
   "cell_type": "code",
   "execution_count": 12,
   "id": "17bfc26a",
   "metadata": {},
   "outputs": [
    {
     "data": {
      "text/plain": [
       "31"
      ]
     },
     "execution_count": 12,
     "metadata": {},
     "output_type": "execute_result"
    }
   ],
   "source": [
    "max_list_length(4)"
   ]
  },
  {
   "cell_type": "code",
   "execution_count": 13,
   "id": "cba342e1",
   "metadata": {},
   "outputs": [
    {
     "data": {
      "text/plain": [
       "32"
      ]
     },
     "execution_count": 13,
     "metadata": {},
     "output_type": "execute_result"
    }
   ],
   "source": [
    "2**5"
   ]
  },
  {
   "cell_type": "code",
   "execution_count": 14,
   "id": "5af3fc44",
   "metadata": {},
   "outputs": [
    {
     "data": {
      "text/plain": [
       "2047"
      ]
     },
     "execution_count": 14,
     "metadata": {},
     "output_type": "execute_result"
    }
   ],
   "source": [
    "max_list_length(10)"
   ]
  },
  {
   "cell_type": "code",
   "execution_count": 15,
   "id": "1989cdf9",
   "metadata": {},
   "outputs": [
    {
     "data": {
      "text/plain": [
       "2048"
      ]
     },
     "execution_count": 15,
     "metadata": {},
     "output_type": "execute_result"
    }
   ],
   "source": [
    "2**11"
   ]
  },
  {
   "cell_type": "code",
   "execution_count": 16,
   "id": "54f1b229",
   "metadata": {},
   "outputs": [
    {
     "data": {
      "text/plain": [
       "255"
      ]
     },
     "execution_count": 16,
     "metadata": {},
     "output_type": "execute_result"
    }
   ],
   "source": [
    "0b011111111"
   ]
  },
  {
   "cell_type": "code",
   "execution_count": 17,
   "id": "f9596f6d",
   "metadata": {},
   "outputs": [
    {
     "data": {
      "text/plain": [
       "255"
      ]
     },
     "execution_count": 17,
     "metadata": {},
     "output_type": "execute_result"
    }
   ],
   "source": [
    "(1 * 2**7) + (1 * 2**6) + (1 * 2**5) + (1 * 2**4) + (1 * 2**3) + (1 * 2**2) + (1 * 2**1) + (1 * 2**0)"
   ]
  },
  {
   "cell_type": "code",
   "execution_count": 18,
   "id": "8cc25fa7",
   "metadata": {},
   "outputs": [
    {
     "data": {
      "text/plain": [
       "255"
      ]
     },
     "execution_count": 18,
     "metadata": {},
     "output_type": "execute_result"
    }
   ],
   "source": [
    "0b100000000 - 0b1"
   ]
  },
  {
   "cell_type": "code",
   "execution_count": 19,
   "id": "dc2e9dd4",
   "metadata": {},
   "outputs": [],
   "source": [
    "def max_list_length(height):\n",
    "    return 2**(height+1) - 1"
   ]
  },
  {
   "cell_type": "code",
   "execution_count": 20,
   "id": "495c3bb2",
   "metadata": {},
   "outputs": [
    {
     "data": {
      "text/plain": [
       "31"
      ]
     },
     "execution_count": 20,
     "metadata": {},
     "output_type": "execute_result"
    }
   ],
   "source": [
    "max_list_length(4)"
   ]
  },
  {
   "cell_type": "code",
   "execution_count": 21,
   "id": "ccbd2b90",
   "metadata": {},
   "outputs": [
    {
     "data": {
      "text/plain": [
       "2047"
      ]
     },
     "execution_count": 21,
     "metadata": {},
     "output_type": "execute_result"
    }
   ],
   "source": [
    "max_list_length(10)"
   ]
  },
  {
   "cell_type": "code",
   "execution_count": 22,
   "id": "559814dd",
   "metadata": {},
   "outputs": [
    {
     "name": "stdout",
     "output_type": "stream",
     "text": [
      "32\t 5.0\n",
      "31\t 4.95\n",
      "30\t 4.91\n",
      "29\t 4.86\n",
      "28\t 4.81\n",
      "27\t 4.75\n",
      "26\t 4.7\n",
      "25\t 4.64\n",
      "24\t 4.58\n",
      "23\t 4.52\n",
      "22\t 4.46\n",
      "21\t 4.39\n",
      "20\t 4.32\n",
      "19\t 4.25\n",
      "18\t 4.17\n",
      "17\t 4.09\n",
      "16\t 4.0\n",
      "15\t 3.91\n",
      "14\t 3.81\n",
      "13\t 3.7\n",
      "12\t 3.58\n",
      "11\t 3.46\n",
      "10\t 3.32\n",
      " 9\t 3.17\n",
      " 8\t 3.0\n",
      " 7\t 2.81\n",
      " 6\t 2.58\n",
      " 5\t 2.32\n",
      " 4\t 2.0\n",
      " 3\t 1.58\n",
      " 2\t 1.0\n",
      " 1\t 0.0\n"
     ]
    }
   ],
   "source": [
    "for length in range(32, 0, -1):\n",
    "    print(f'{length:2}\\t {math.log(length, 2):2.3}')"
   ]
  },
  {
   "cell_type": "markdown",
   "id": "c4edb158",
   "metadata": {},
   "source": [
    "<h1>Big O</h1>"
   ]
  },
  {
   "cell_type": "code",
   "execution_count": 65,
   "id": "3dd2bef4",
   "metadata": {},
   "outputs": [],
   "source": [
    "n = np.arange(0.1, 1000.1, 0.1)\n",
    "\n",
    "y1 = n**2\n",
    "\n",
    "y2 = n * np.log(n)"
   ]
  },
  {
   "cell_type": "code",
   "execution_count": 66,
   "id": "bdf609aa",
   "metadata": {},
   "outputs": [
    {
     "data": {
      "text/plain": [
       "<matplotlib.legend.Legend at 0x27a700423a0>"
      ]
     },
     "execution_count": 66,
     "metadata": {},
     "output_type": "execute_result"
    },
    {
     "data": {
      "image/png": "[encoded data removed]",
      "text/plain": [
       "<Figure size 1440x576 with 1 Axes>"
      ]
     },
     "metadata": {
      "needs_background": "light"
     },
     "output_type": "display_data"
    }
   ],
   "source": [
    "plt.plot(n, y1, label='$n^2$')\n",
    "plt.plot(n, y2, label='$n \\log(n)$')\n",
    "\n",
    "plt.legend()"
   ]
  },
  {
   "cell_type": "code",
   "execution_count": 67,
   "id": "ce47f6ad",
   "metadata": {},
   "outputs": [
    {
     "data": {
      "text/plain": [
       "<matplotlib.legend.Legend at 0x27a704dc5b0>"
      ]
     },
     "execution_count": 67,
     "metadata": {},
     "output_type": "execute_result"
    },
    {
     "data": {
      "image/png": "[encoded data removed]",
      "text/plain": [
       "<Figure size 1440x576 with 1 Axes>"
      ]
     },
     "metadata": {
      "needs_background": "light"
     },
     "output_type": "display_data"
    }
   ],
   "source": [
    "n = np.arange(0.0, 2.1, 0.01)\n",
    "\n",
    "plt.plot(n, n**2, label='$n^2$')\n",
    "plt.plot(n, n**3, label='$n^3$')\n",
    "\n",
    "plt.legend()"
   ]
  },
  {
   "cell_type": "code",
   "execution_count": 68,
   "id": "f1d63dc4",
   "metadata": {},
   "outputs": [
    {
     "data": {
      "text/plain": [
       "<matplotlib.legend.Legend at 0x27a703e31c0>"
      ]
     },
     "execution_count": 68,
     "metadata": {},
     "output_type": "execute_result"
    },
    {
     "data": {
      "image/png": "[encoded data removed]",
      "text/plain": [
       "<Figure size 1440x576 with 1 Axes>"
      ]
     },
     "metadata": {
      "needs_background": "light"
     },
     "output_type": "display_data"
    }
   ],
   "source": [
    "n = np.arange(0.0, 2.1, 0.01)\n",
    "\n",
    "plt.plot(n, 2.0 * (n**2), label='$2n^2$')\n",
    "plt.plot(n, n**2, label='$n^2$')\n",
    "\n",
    "plt.legend()"
   ]
  },
  {
   "cell_type": "code",
   "execution_count": null,
   "id": "5604d076",
   "metadata": {},
   "outputs": [],
   "source": []
  },
  {
   "cell_type": "code",
   "execution_count": null,
   "id": "cb329274",
   "metadata": {},
   "outputs": [],
   "source": []
  },
  {
   "cell_type": "code",
   "execution_count": null,
   "id": "b85f8260",
   "metadata": {},
   "outputs": [],
   "source": []
  },
  {
   "cell_type": "code",
   "execution_count": null,
   "id": "0750f40a",
   "metadata": {},
   "outputs": [],
   "source": []
  }
 ],
 "metadata": {
  "kernelspec": {
   "display_name": "Python 3 (ipykernel)",
   "language": "python",
   "name": "python3"
  },
  "language_info": {
   "codemirror_mode": {
    "name": "ipython",
    "version": 3
   },
   "file_extension": ".py",
   "mimetype": "text/x-python",
   "name": "python",
   "nbconvert_exporter": "python",
   "pygments_lexer": "ipython3",
   "version": "3.9.7"
  }
 },
 "nbformat": 4,
 "nbformat_minor": 5
}
